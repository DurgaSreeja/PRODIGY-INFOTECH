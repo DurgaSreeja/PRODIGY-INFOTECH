{
 "cells": [
  {
   "cell_type": "code",
   "execution_count": 1,
   "metadata": {},
   "outputs": [
    {
     "name": "stdout",
     "output_type": "stream",
     "text": [
      "Defaulting to user installation because normal site-packages is not writeable\n",
      "Requirement already satisfied: tensorflow in c:\\users\\durga sreeja\\appdata\\roaming\\python\\python311\\site-packages (2.15.0)\n",
      "Requirement already satisfied: tqdm in c:\\users\\durga sreeja\\appdata\\roaming\\python\\python311\\site-packages (4.66.2)\n",
      "Requirement already satisfied: opencv-python in c:\\users\\durga sreeja\\appdata\\roaming\\python\\python311\\site-packages (4.10.0.82)\n",
      "Requirement already satisfied: tensorflow-intel==2.15.0 in c:\\users\\durga sreeja\\appdata\\roaming\\python\\python311\\site-packages (from tensorflow) (2.15.0)\n",
      "Requirement already satisfied: absl-py>=1.0.0 in c:\\users\\durga sreeja\\appdata\\roaming\\python\\python311\\site-packages (from tensorflow-intel==2.15.0->tensorflow) (2.1.0)\n",
      "Requirement already satisfied: astunparse>=1.6.0 in c:\\users\\durga sreeja\\appdata\\roaming\\python\\python311\\site-packages (from tensorflow-intel==2.15.0->tensorflow) (1.6.3)\n",
      "Requirement already satisfied: flatbuffers>=23.5.26 in c:\\users\\durga sreeja\\appdata\\roaming\\python\\python311\\site-packages (from tensorflow-intel==2.15.0->tensorflow) (23.5.26)\n",
      "Requirement already satisfied: gast!=0.5.0,!=0.5.1,!=0.5.2,>=0.2.1 in c:\\users\\durga sreeja\\appdata\\roaming\\python\\python311\\site-packages (from tensorflow-intel==2.15.0->tensorflow) (0.5.4)\n",
      "Requirement already satisfied: google-pasta>=0.1.1 in c:\\users\\durga sreeja\\appdata\\roaming\\python\\python311\\site-packages (from tensorflow-intel==2.15.0->tensorflow) (0.2.0)\n",
      "Requirement already satisfied: h5py>=2.9.0 in c:\\users\\durga sreeja\\appdata\\roaming\\python\\python311\\site-packages (from tensorflow-intel==2.15.0->tensorflow) (3.10.0)\n",
      "Requirement already satisfied: libclang>=13.0.0 in c:\\users\\durga sreeja\\appdata\\roaming\\python\\python311\\site-packages (from tensorflow-intel==2.15.0->tensorflow) (16.0.6)\n",
      "Requirement already satisfied: ml-dtypes~=0.2.0 in c:\\users\\durga sreeja\\appdata\\roaming\\python\\python311\\site-packages (from tensorflow-intel==2.15.0->tensorflow) (0.2.0)\n",
      "Requirement already satisfied: numpy<2.0.0,>=1.23.5 in c:\\users\\durga sreeja\\appdata\\roaming\\python\\python311\\site-packages (from tensorflow-intel==2.15.0->tensorflow) (1.25.2)\n",
      "Requirement already satisfied: opt-einsum>=2.3.2 in c:\\users\\durga sreeja\\appdata\\roaming\\python\\python311\\site-packages (from tensorflow-intel==2.15.0->tensorflow) (3.3.0)\n",
      "Requirement already satisfied: packaging in c:\\users\\durga sreeja\\appdata\\roaming\\python\\python311\\site-packages (from tensorflow-intel==2.15.0->tensorflow) (23.1)\n",
      "Requirement already satisfied: protobuf!=4.21.0,!=4.21.1,!=4.21.2,!=4.21.3,!=4.21.4,!=4.21.5,<5.0.0dev,>=3.20.3 in c:\\users\\durga sreeja\\appdata\\roaming\\python\\python311\\site-packages (from tensorflow-intel==2.15.0->tensorflow) (4.23.4)\n",
      "Requirement already satisfied: setuptools in c:\\program files\\python311\\lib\\site-packages (from tensorflow-intel==2.15.0->tensorflow) (65.5.0)\n",
      "Requirement already satisfied: six>=1.12.0 in c:\\users\\durga sreeja\\appdata\\roaming\\python\\python311\\site-packages (from tensorflow-intel==2.15.0->tensorflow) (1.16.0)\n",
      "Requirement already satisfied: termcolor>=1.1.0 in c:\\users\\durga sreeja\\appdata\\roaming\\python\\python311\\site-packages (from tensorflow-intel==2.15.0->tensorflow) (2.4.0)\n",
      "Requirement already satisfied: typing-extensions>=3.6.6 in c:\\users\\durga sreeja\\appdata\\roaming\\python\\python311\\site-packages (from tensorflow-intel==2.15.0->tensorflow) (4.8.0)\n",
      "Requirement already satisfied: wrapt<1.15,>=1.11.0 in c:\\users\\durga sreeja\\appdata\\roaming\\python\\python311\\site-packages (from tensorflow-intel==2.15.0->tensorflow) (1.14.1)\n",
      "Requirement already satisfied: tensorflow-io-gcs-filesystem>=0.23.1 in c:\\users\\durga sreeja\\appdata\\roaming\\python\\python311\\site-packages (from tensorflow-intel==2.15.0->tensorflow) (0.31.0)\n",
      "Requirement already satisfied: grpcio<2.0,>=1.24.3 in c:\\users\\durga sreeja\\appdata\\roaming\\python\\python311\\site-packages (from tensorflow-intel==2.15.0->tensorflow) (1.60.0)\n",
      "Requirement already satisfied: tensorboard<2.16,>=2.15 in c:\\users\\durga sreeja\\appdata\\roaming\\python\\python311\\site-packages (from tensorflow-intel==2.15.0->tensorflow) (2.15.1)\n",
      "Requirement already satisfied: tensorflow-estimator<2.16,>=2.15.0 in c:\\users\\durga sreeja\\appdata\\roaming\\python\\python311\\site-packages (from tensorflow-intel==2.15.0->tensorflow) (2.15.0)\n",
      "Requirement already satisfied: keras<2.16,>=2.15.0 in c:\\users\\durga sreeja\\appdata\\roaming\\python\\python311\\site-packages (from tensorflow-intel==2.15.0->tensorflow) (2.15.0)\n",
      "Requirement already satisfied: colorama in c:\\users\\durga sreeja\\appdata\\roaming\\python\\python311\\site-packages (from tqdm) (0.4.6)\n",
      "Requirement already satisfied: wheel<1.0,>=0.23.0 in c:\\users\\durga sreeja\\appdata\\roaming\\python\\python311\\site-packages (from astunparse>=1.6.0->tensorflow-intel==2.15.0->tensorflow) (0.42.0)\n",
      "Requirement already satisfied: google-auth<3,>=1.6.3 in c:\\users\\durga sreeja\\appdata\\roaming\\python\\python311\\site-packages (from tensorboard<2.16,>=2.15->tensorflow-intel==2.15.0->tensorflow) (2.27.0)\n",
      "Requirement already satisfied: google-auth-oauthlib<2,>=0.5 in c:\\users\\durga sreeja\\appdata\\roaming\\python\\python311\\site-packages (from tensorboard<2.16,>=2.15->tensorflow-intel==2.15.0->tensorflow) (1.2.0)\n",
      "Requirement already satisfied: markdown>=2.6.8 in c:\\users\\durga sreeja\\appdata\\roaming\\python\\python311\\site-packages (from tensorboard<2.16,>=2.15->tensorflow-intel==2.15.0->tensorflow) (3.5.2)\n",
      "Requirement already satisfied: requests<3,>=2.21.0 in c:\\users\\durga sreeja\\appdata\\roaming\\python\\python311\\site-packages (from tensorboard<2.16,>=2.15->tensorflow-intel==2.15.0->tensorflow) (2.31.0)\n",
      "Requirement already satisfied: tensorboard-data-server<0.8.0,>=0.7.0 in c:\\users\\durga sreeja\\appdata\\roaming\\python\\python311\\site-packages (from tensorboard<2.16,>=2.15->tensorflow-intel==2.15.0->tensorflow) (0.7.2)\n",
      "Requirement already satisfied: werkzeug>=1.0.1 in c:\\users\\durga sreeja\\appdata\\roaming\\python\\python311\\site-packages (from tensorboard<2.16,>=2.15->tensorflow-intel==2.15.0->tensorflow) (3.0.1)\n",
      "Requirement already satisfied: cachetools<6.0,>=2.0.0 in c:\\users\\durga sreeja\\appdata\\roaming\\python\\python311\\site-packages (from google-auth<3,>=1.6.3->tensorboard<2.16,>=2.15->tensorflow-intel==2.15.0->tensorflow) (5.3.2)\n",
      "Requirement already satisfied: pyasn1-modules>=0.2.1 in c:\\users\\durga sreeja\\appdata\\roaming\\python\\python311\\site-packages (from google-auth<3,>=1.6.3->tensorboard<2.16,>=2.15->tensorflow-intel==2.15.0->tensorflow) (0.3.0)\n",
      "Requirement already satisfied: rsa<5,>=3.1.4 in c:\\users\\durga sreeja\\appdata\\roaming\\python\\python311\\site-packages (from google-auth<3,>=1.6.3->tensorboard<2.16,>=2.15->tensorflow-intel==2.15.0->tensorflow) (4.9)\n",
      "Requirement already satisfied: requests-oauthlib>=0.7.0 in c:\\users\\durga sreeja\\appdata\\roaming\\python\\python311\\site-packages (from google-auth-oauthlib<2,>=0.5->tensorboard<2.16,>=2.15->tensorflow-intel==2.15.0->tensorflow) (1.3.1)\n",
      "Requirement already satisfied: charset-normalizer<4,>=2 in c:\\users\\durga sreeja\\appdata\\roaming\\python\\python311\\site-packages (from requests<3,>=2.21.0->tensorboard<2.16,>=2.15->tensorflow-intel==2.15.0->tensorflow) (3.3.2)\n",
      "Requirement already satisfied: idna<4,>=2.5 in c:\\users\\durga sreeja\\appdata\\roaming\\python\\python311\\site-packages (from requests<3,>=2.21.0->tensorboard<2.16,>=2.15->tensorflow-intel==2.15.0->tensorflow) (3.6)\n",
      "Requirement already satisfied: urllib3<3,>=1.21.1 in c:\\users\\durga sreeja\\appdata\\roaming\\python\\python311\\site-packages (from requests<3,>=2.21.0->tensorboard<2.16,>=2.15->tensorflow-intel==2.15.0->tensorflow) (2.1.0)\n",
      "Requirement already satisfied: certifi>=2017.4.17 in c:\\users\\durga sreeja\\appdata\\roaming\\python\\python311\\site-packages (from requests<3,>=2.21.0->tensorboard<2.16,>=2.15->tensorflow-intel==2.15.0->tensorflow) (2023.11.17)\n",
      "Requirement already satisfied: MarkupSafe>=2.1.1 in c:\\users\\durga sreeja\\appdata\\roaming\\python\\python311\\site-packages (from werkzeug>=1.0.1->tensorboard<2.16,>=2.15->tensorflow-intel==2.15.0->tensorflow) (2.1.3)\n",
      "Requirement already satisfied: pyasn1<0.6.0,>=0.4.6 in c:\\users\\durga sreeja\\appdata\\roaming\\python\\python311\\site-packages (from pyasn1-modules>=0.2.1->google-auth<3,>=1.6.3->tensorboard<2.16,>=2.15->tensorflow-intel==2.15.0->tensorflow) (0.5.1)\n",
      "Requirement already satisfied: oauthlib>=3.0.0 in c:\\users\\durga sreeja\\appdata\\roaming\\python\\python311\\site-packages (from requests-oauthlib>=0.7.0->google-auth-oauthlib<2,>=0.5->tensorboard<2.16,>=2.15->tensorflow-intel==2.15.0->tensorflow) (3.2.2)\n"
     ]
    },
    {
     "name": "stderr",
     "output_type": "stream",
     "text": [
      "DEPRECATION: Loading egg at c:\\program files\\python311\\lib\\site-packages\\pyserial-3.5-py3.11.egg is deprecated. pip 24.3 will enforce this behaviour change. A possible replacement is to use pip for package installation.. Discussion can be found at https://github.com/pypa/pip/issues/12330\n"
     ]
    }
   ],
   "source": [
    "!pip install tensorflow tqdm opencv-python"
   ]
  },
  {
   "cell_type": "code",
   "execution_count": 2,
   "metadata": {},
   "outputs": [
    {
     "name": "stdout",
     "output_type": "stream",
     "text": [
      "WARNING:tensorflow:From C:\\Users\\Durga Sreeja\\AppData\\Roaming\\Python\\Python311\\site-packages\\keras\\src\\losses.py:2976: The name tf.losses.sparse_softmax_cross_entropy is deprecated. Please use tf.compat.v1.losses.sparse_softmax_cross_entropy instead.\n",
      "\n"
     ]
    }
   ],
   "source": [
    "import numpy as np\n",
    "import pandas as pd\n",
    "import matplotlib.pyplot as plt\n",
    "import os\n",
    "import cv2\n",
    "import tensorflow as tf\n",
    "from tqdm import tqdm\n",
    "import random\n",
    "from sklearn.model_selection import train_test_split\n",
    "from tensorflow import keras\n",
    "from tensorflow.math import confusion_matrix\n",
    "from sklearn.metrics import classification_report\n",
    "import seaborn as sns\n",
    "tf.random.set_seed(3)\n",
    "import glob \n",
    "from tensorflow.keras.models import Sequential\n",
    "from tensorflow.keras.layers import Flatten, Dense, LeakyReLU\n"
   ]
  },
  {
   "cell_type": "code",
   "execution_count": 3,
   "metadata": {},
   "outputs": [],
   "source": [
    "folders_names = []\n",
    "##'/kaggle/input/leapgestrecog/leapGestRecog/0'\n",
    "for i in range(1):\n",
    "    folder = r'./leapGestRecog/0{}'.format(i)\n",
    "    folders_names.append(folder)\n",
    "\n",
    "files_names = ['01_palm', '02_l', '03_fist', '04_fist_moved', '05_thumb','06_index','07_ok','08_palm_moved','09_c','10_down']\n"
   ]
  },
  {
   "cell_type": "code",
   "execution_count": 4,
   "metadata": {},
   "outputs": [
    {
     "data": {
      "text/plain": [
       "['./leapGestRecog/00']"
      ]
     },
     "execution_count": 4,
     "metadata": {},
     "output_type": "execute_result"
    }
   ],
   "source": [
    "folders_names"
   ]
  },
  {
   "cell_type": "code",
   "execution_count": 17,
   "metadata": {},
   "outputs": [
    {
     "name": "stdout",
     "output_type": "stream",
     "text": [
      "Class  0\n",
      "Class  0 01_palm\n"
     ]
    },
    {
     "name": "stderr",
     "output_type": "stream",
     "text": [
      "  0%|          | 0/200 [00:00<?, ?it/s]"
     ]
    },
    {
     "name": "stderr",
     "output_type": "stream",
     "text": [
      "100%|██████████| 200/200 [00:00<00:00, 422.49it/s]\n"
     ]
    },
    {
     "name": "stdout",
     "output_type": "stream",
     "text": [
      "Class  1 02_l\n"
     ]
    },
    {
     "name": "stderr",
     "output_type": "stream",
     "text": [
      "100%|██████████| 200/200 [00:00<00:00, 330.36it/s]\n"
     ]
    },
    {
     "name": "stdout",
     "output_type": "stream",
     "text": [
      "Class  2 03_fist\n"
     ]
    },
    {
     "name": "stderr",
     "output_type": "stream",
     "text": [
      "100%|██████████| 200/200 [00:00<00:00, 293.58it/s]\n"
     ]
    },
    {
     "name": "stdout",
     "output_type": "stream",
     "text": [
      "Class  3 04_fist_moved\n"
     ]
    },
    {
     "name": "stderr",
     "output_type": "stream",
     "text": [
      "100%|██████████| 200/200 [00:00<00:00, 207.44it/s]\n"
     ]
    },
    {
     "name": "stdout",
     "output_type": "stream",
     "text": [
      "Class  4 05_thumb\n"
     ]
    },
    {
     "name": "stderr",
     "output_type": "stream",
     "text": [
      "100%|██████████| 200/200 [00:01<00:00, 161.77it/s]\n"
     ]
    },
    {
     "name": "stdout",
     "output_type": "stream",
     "text": [
      "Class  5 06_index\n"
     ]
    },
    {
     "name": "stderr",
     "output_type": "stream",
     "text": [
      "100%|██████████| 200/200 [00:00<00:00, 209.34it/s]\n"
     ]
    },
    {
     "name": "stdout",
     "output_type": "stream",
     "text": [
      "Class  6 07_ok\n"
     ]
    },
    {
     "name": "stderr",
     "output_type": "stream",
     "text": [
      "100%|██████████| 200/200 [00:00<00:00, 228.64it/s]\n"
     ]
    },
    {
     "name": "stdout",
     "output_type": "stream",
     "text": [
      "Class  7 08_palm_moved\n"
     ]
    },
    {
     "name": "stderr",
     "output_type": "stream",
     "text": [
      "100%|██████████| 200/200 [00:00<00:00, 208.86it/s]\n"
     ]
    },
    {
     "name": "stdout",
     "output_type": "stream",
     "text": [
      "Class  8 09_c\n"
     ]
    },
    {
     "name": "stderr",
     "output_type": "stream",
     "text": [
      "100%|██████████| 200/200 [00:01<00:00, 195.70it/s]\n"
     ]
    },
    {
     "name": "stdout",
     "output_type": "stream",
     "text": [
      "Class  9 10_down\n"
     ]
    },
    {
     "name": "stderr",
     "output_type": "stream",
     "text": [
      "100%|██████████| 200/200 [00:00<00:00, 224.08it/s]\n"
     ]
    }
   ],
   "source": [
    "training_data = []\n",
    "\n",
    "def create_training_data():\n",
    "    i = 0\n",
    "    for folder in folders_names:\n",
    "        Class_num=i\n",
    "        print('Class ' ,Class_num)\n",
    "        for file in files_names:\n",
    "            path = os.path.join(folder, file)\n",
    "\n",
    "            print('Class ' ,Class_num,file)\n",
    "            \n",
    "            for img in tqdm(os.listdir(path)):\n",
    "                img_array = cv2.imread(os.path.join(path, img), cv2.IMREAD_GRAYSCALE)\n",
    "                training_data.append([img_array,int(Class_num)])\n",
    "            Class_num=Class_num+1\n",
    "                        \n",
    "    \n",
    "create_training_data()        "
   ]
  },
  {
   "cell_type": "code",
   "execution_count": 18,
   "metadata": {},
   "outputs": [
    {
     "name": "stdout",
     "output_type": "stream",
     "text": [
      "Class 0\n",
      "Image shape: (240, 640) \n",
      "\n"
     ]
    }
   ],
   "source": [
    "for folder in folders_names:\n",
    "    class_num = folder[-1]\n",
    "    print('Class', class_num)\n",
    "    for file in files_names:\n",
    "        path = os.path.join(folder, file)\n",
    "       \n",
    "        for img in os.listdir(path):\n",
    "            img_array = cv2.imread(os.path.join(path, img), cv2.IMREAD_GRAYSCALE)\n",
    "            print(\"Image shape:\", img_array.shape,\"\\n\")\n",
    "            break  \n",
    "        break  \n"
   ]
  },
  {
   "cell_type": "code",
   "execution_count": 19,
   "metadata": {},
   "outputs": [
    {
     "name": "stdout",
     "output_type": "stream",
     "text": [
      "All images have the same size: (240, 640)\n"
     ]
    }
   ],
   "source": [
    "def check_image_sizes():\n",
    "    first_img_shape = None\n",
    "    for folder in folders_names:\n",
    "        for file in files_names:\n",
    "            path = os.path.join(folder, file)\n",
    "            for img in os.listdir(path):\n",
    "                img_array = cv2.imread(os.path.join(path, img), cv2.IMREAD_GRAYSCALE)\n",
    "                if first_img_shape is None:\n",
    "                    first_img_shape = img_array.shape\n",
    "                elif img_array.shape != first_img_shape:\n",
    "                    print(\"Image sizes are not consistent.\")\n",
    "                    return False\n",
    "    print(\"All images have the same size:\", first_img_shape)\n",
    "   \n",
    "check_image_sizes()\n"
   ]
  },
  {
   "cell_type": "code",
   "execution_count": 20,
   "metadata": {},
   "outputs": [],
   "source": [
    "X=[]\n",
    "y=[]\n",
    "\n",
    "for feature,label in training_data:\n",
    "    X.append(feature)\n",
    "    y.append(label)\n"
   ]
  },
  {
   "cell_type": "code",
   "execution_count": 21,
   "metadata": {},
   "outputs": [
    {
     "name": "stdout",
     "output_type": "stream",
     "text": [
      "(2000, 240, 640)\n",
      "(2000,)\n"
     ]
    }
   ],
   "source": [
    "X=np.array(X)\n",
    "y=np.array(y)\n",
    "print(X.shape)\n",
    "print(y.shape)"
   ]
  },
  {
   "cell_type": "code",
   "execution_count": 22,
   "metadata": {},
   "outputs": [
    {
     "name": "stdout",
     "output_type": "stream",
     "text": [
      "(1600, 240, 640)\n",
      "(1600,)\n",
      "(400, 240, 640)\n",
      "(400,)\n"
     ]
    }
   ],
   "source": [
    "X_train, X_test, y_train, y_test = train_test_split(X, y, test_size=0.2, random_state=42)\n",
    "\n",
    "\n",
    "print(X_train.shape)\n",
    "print(y_train.shape)\n",
    "print(X_test.shape)\n",
    "print(y_test.shape)"
   ]
  },
  {
   "cell_type": "code",
   "execution_count": 36,
   "metadata": {},
   "outputs": [
    {
     "name": "stdout",
     "output_type": "stream",
     "text": [
      "[4 1 4 ... 4 7 5]\n"
     ]
    },
    {
     "data": {
      "text/plain": [
       "array([9, 1, 6, 4, 6, 6, 4, 8, 0, 6, 0, 6, 5, 2, 1, 1, 3, 0, 8, 9, 3, 8,\n",
       "       9, 5, 9, 0, 5, 4, 3, 0, 3, 4, 2, 4, 5, 2, 8, 6, 5, 1, 0, 9, 1, 2,\n",
       "       7, 4, 2, 4, 0, 8, 7, 1, 7, 1, 4, 8, 6, 8, 5, 1, 7, 3, 8, 5, 9, 9,\n",
       "       4, 7, 0, 7, 7, 1, 6, 5, 3, 1, 8, 3, 1, 9, 0, 4, 7, 7, 8, 7, 8, 2,\n",
       "       1, 8, 7, 8, 1, 1, 9, 9, 3, 6, 7, 9, 4, 4, 2, 6, 1, 4, 3, 1, 3, 2,\n",
       "       3, 7, 5, 8, 3, 1, 5, 4, 1, 8, 9, 5, 5, 2, 1, 7, 2, 4, 5, 1, 9, 9,\n",
       "       3, 2, 4, 6, 9, 9, 8, 7, 6, 1, 8, 4, 7, 2, 3, 6, 1, 0, 8, 4, 3, 5,\n",
       "       1, 0, 2, 8, 2, 8, 3, 4, 0, 5, 9, 7, 8, 6, 1, 8, 5, 3, 9, 9, 2, 6,\n",
       "       3, 6, 4, 8, 6, 3, 9, 5, 4, 3, 9, 8, 5, 6, 3, 1, 6, 1, 0, 2, 5, 4,\n",
       "       3, 7, 9, 2, 0, 3, 2, 1, 7, 6, 5, 0, 8, 0, 1, 0, 3, 9, 5, 1, 2, 6,\n",
       "       4, 0, 2, 5, 9, 9, 2, 0, 8, 1, 9, 1, 8, 7, 8, 1, 5, 4, 6, 2, 3, 7,\n",
       "       2, 4, 6, 0, 4, 9, 4, 6, 5, 1, 5, 2, 7, 5, 2, 3, 9, 6, 0, 9, 0, 7,\n",
       "       5, 7, 1, 0, 1, 5, 6, 9, 2, 8, 9, 9, 3, 2, 7, 1, 9, 7, 3, 6, 6, 0,\n",
       "       1, 8, 0, 0, 6, 7, 7, 8, 2, 1, 0, 8, 9, 2, 2, 0, 9, 7, 3, 9, 5, 6,\n",
       "       4, 0, 5, 8, 6, 4, 5, 2, 7, 7, 9, 7, 0, 8, 0, 1, 4, 2, 9, 3, 8, 3,\n",
       "       2, 2, 7, 2, 1, 8, 1, 0, 5, 8, 7, 1, 9, 4, 2, 8, 1, 9, 7, 4, 0, 2,\n",
       "       7, 8, 0, 2, 8, 8, 6, 5, 2, 1, 3, 0, 3, 2, 8, 1, 5, 1, 7, 9, 0, 8,\n",
       "       7, 7, 2, 8, 9, 7, 7, 4, 2, 8, 7, 3, 2, 7, 3, 7, 8, 8, 2, 3, 2, 4,\n",
       "       6, 8, 1, 2])"
      ]
     },
     "execution_count": 36,
     "metadata": {},
     "output_type": "execute_result"
    }
   ],
   "source": [
    "print(y_train)\n",
    "\n",
    "y_test"
   ]
  },
  {
   "cell_type": "code",
   "execution_count": 24,
   "metadata": {},
   "outputs": [
    {
     "name": "stdout",
     "output_type": "stream",
     "text": [
      "[[0.01568627 0.02352941 0.02352941 ... 0.01960784 0.01960784 0.01960784]\n",
      " [0.02745098 0.02745098 0.01568627 ... 0.01568627 0.01568627 0.01568627]\n",
      " [0.01960784 0.01568627 0.01568627 ... 0.01960784 0.01568627 0.01568627]\n",
      " ...\n",
      " [0.02352941 0.02352941 0.01960784 ... 0.02352941 0.01960784 0.01568627]\n",
      " [0.01960784 0.01568627 0.02352941 ... 0.01960784 0.01568627 0.02745098]\n",
      " [0.02745098 0.02352941 0.02352941 ... 0.09803922 0.04705882 0.0627451 ]]\n"
     ]
    }
   ],
   "source": [
    "X_train = X_train/255\n",
    "X_test = X_test/255\n",
    "print(X_train[0])"
   ]
  },
  {
   "cell_type": "code",
   "execution_count": 25,
   "metadata": {},
   "outputs": [
    {
     "name": "stdout",
     "output_type": "stream",
     "text": [
      "WARNING:tensorflow:From C:\\Users\\Durga Sreeja\\AppData\\Roaming\\Python\\Python311\\site-packages\\keras\\src\\backend.py:873: The name tf.get_default_graph is deprecated. Please use tf.compat.v1.get_default_graph instead.\n",
      "\n"
     ]
    }
   ],
   "source": [
    "\n",
    "model = Sequential([\n",
    "    Flatten(input_shape=(240, 640)),\n",
    "    Dense(64),\n",
    "    LeakyReLU(alpha=0.1),\n",
    "    Dense(32),\n",
    "    LeakyReLU(alpha=0.1),\n",
    "    Dense(16),\n",
    "    LeakyReLU(alpha=0.1),\n",
    "    Dense(10, activation='softmax')\n",
    "])"
   ]
  },
  {
   "cell_type": "code",
   "execution_count": 26,
   "metadata": {},
   "outputs": [
    {
     "name": "stdout",
     "output_type": "stream",
     "text": [
      "WARNING:tensorflow:From C:\\Users\\Durga Sreeja\\AppData\\Roaming\\Python\\Python311\\site-packages\\keras\\src\\optimizers\\__init__.py:309: The name tf.train.Optimizer is deprecated. Please use tf.compat.v1.train.Optimizer instead.\n",
      "\n",
      "Epoch 1/3\n",
      "WARNING:tensorflow:From C:\\Users\\Durga Sreeja\\AppData\\Roaming\\Python\\Python311\\site-packages\\keras\\src\\utils\\tf_utils.py:492: The name tf.ragged.RaggedTensorValue is deprecated. Please use tf.compat.v1.ragged.RaggedTensorValue instead.\n",
      "\n",
      "WARNING:tensorflow:From C:\\Users\\Durga Sreeja\\AppData\\Roaming\\Python\\Python311\\site-packages\\keras\\src\\engine\\base_layer_utils.py:384: The name tf.executing_eagerly_outside_functions is deprecated. Please use tf.compat.v1.executing_eagerly_outside_functions instead.\n",
      "\n",
      "45/45 - 12s - loss: 2.4179 - accuracy: 0.6590 - val_loss: 0.0895 - val_accuracy: 0.9812 - 12s/epoch - 257ms/step\n",
      "Epoch 2/3\n",
      "45/45 - 5s - loss: 0.0395 - accuracy: 0.9944 - val_loss: 0.0305 - val_accuracy: 0.9937 - 5s/epoch - 121ms/step\n",
      "Epoch 3/3\n",
      "45/45 - 5s - loss: 0.0160 - accuracy: 0.9979 - val_loss: 0.0321 - val_accuracy: 0.9937 - 5s/epoch - 119ms/step\n"
     ]
    }
   ],
   "source": [
    "model.compile(optimizer='adam', loss='sparse_categorical_crossentropy', metrics=['accuracy'])\n",
    "history = model.fit(X_train, y_train, epochs=3, validation_split=0.1, batch_size=32, verbose=2)\n"
   ]
  },
  {
   "cell_type": "code",
   "execution_count": 27,
   "metadata": {},
   "outputs": [
    {
     "name": "stdout",
     "output_type": "stream",
     "text": [
      "Model: \"sequential\"\n",
      "_________________________________________________________________\n",
      " Layer (type)                Output Shape              Param #   \n",
      "=================================================================\n",
      " flatten (Flatten)           (None, 153600)            0         \n",
      "                                                                 \n",
      " dense (Dense)               (None, 64)                9830464   \n",
      "                                                                 \n",
      " leaky_re_lu (LeakyReLU)     (None, 64)                0         \n",
      "                                                                 \n",
      " dense_1 (Dense)             (None, 32)                2080      \n",
      "                                                                 \n",
      " leaky_re_lu_1 (LeakyReLU)   (None, 32)                0         \n",
      "                                                                 \n",
      " dense_2 (Dense)             (None, 16)                528       \n",
      "                                                                 \n",
      " leaky_re_lu_2 (LeakyReLU)   (None, 16)                0         \n",
      "                                                                 \n",
      " dense_3 (Dense)             (None, 10)                170       \n",
      "                                                                 \n",
      "=================================================================\n",
      "Total params: 9833242 (37.51 MB)\n",
      "Trainable params: 9833242 (37.51 MB)\n",
      "Non-trainable params: 0 (0.00 Byte)\n",
      "_________________________________________________________________\n"
     ]
    }
   ],
   "source": [
    "model.summary()"
   ]
  },
  {
   "cell_type": "code",
   "execution_count": 28,
   "metadata": {},
   "outputs": [
    {
     "name": "stdout",
     "output_type": "stream",
     "text": [
      "50/50 [==============================] - 3s 50ms/step - loss: 0.0141 - accuracy: 0.9987\n",
      "Training Loss: 0.0141\n",
      "Training Accuracy: 99.87%\n"
     ]
    }
   ],
   "source": [
    "loss, accuracy = model.evaluate(X_train, y_train)\n",
    "print(f\"Training Loss: {loss:.4f}\")\n",
    "print(f\"Training Accuracy: {accuracy*100:.2f}%\")"
   ]
  },
  {
   "cell_type": "code",
   "execution_count": 29,
   "metadata": {},
   "outputs": [
    {
     "name": "stdout",
     "output_type": "stream",
     "text": [
      "13/13 [==============================] - 1s 32ms/step - loss: 0.0194 - accuracy: 0.9950\n",
      "Testing Loss: 0.0194\n",
      "Testing Loss : 99.50 %\n"
     ]
    }
   ],
   "source": [
    "loss, accuracy = model.evaluate(X_test, y_test)\n",
    "print(f\"Testing Loss: {loss:.4f}\")\n",
    "print(f\"Testing Loss : {accuracy*100:.2f} %\")"
   ]
  },
  {
   "cell_type": "code",
   "execution_count": 31,
   "metadata": {},
   "outputs": [
    {
     "name": "stdout",
     "output_type": "stream",
     "text": [
      "13/13 [==============================] - 0s 16ms/step\n",
      "[9, 1, 6, 4, 6, 6, 4, 8, 0, 6, 0, 6, 5, 2, 1, 1, 3, 0, 8, 9, 3, 8, 9, 5, 9, 0, 5, 4, 3, 0, 3, 4, 2, 4, 5, 2, 8, 6, 5, 1, 0, 9, 1, 2, 7, 4, 2, 4, 0, 8, 7, 1, 7, 1, 4, 8, 6, 8, 5, 1, 7, 3, 8, 5, 9, 9, 4, 7, 0, 7, 7, 1, 6, 5, 3, 1, 8, 3, 1, 9, 0, 4, 7, 7, 8, 7, 3, 2, 1, 8, 7, 8, 1, 1, 9, 9, 3, 6, 7, 9, 4, 4, 2, 6, 1, 4, 3, 1, 3, 2, 3, 7, 5, 8, 3, 1, 5, 4, 1, 8, 9, 5, 5, 2, 1, 7, 2, 4, 5, 1, 9, 9, 3, 2, 4, 6, 9, 9, 8, 7, 6, 1, 8, 4, 7, 2, 3, 6, 1, 0, 8, 4, 3, 5, 1, 0, 2, 8, 2, 8, 3, 4, 0, 5, 9, 7, 8, 6, 1, 8, 5, 3, 9, 9, 2, 6, 3, 6, 4, 8, 6, 3, 9, 5, 4, 3, 9, 8, 5, 6, 3, 1, 6, 1, 0, 2, 5, 4, 3, 7, 9, 2, 0, 3, 2, 1, 7, 6, 5, 0, 8, 0, 1, 0, 3, 9, 5, 1, 2, 6, 4, 0, 2, 5, 9, 9, 2, 0, 8, 1, 9, 1, 8, 7, 8, 1, 5, 4, 6, 2, 3, 7, 2, 4, 6, 0, 4, 9, 4, 6, 5, 1, 5, 2, 7, 5, 2, 3, 9, 6, 0, 9, 0, 7, 5, 7, 1, 0, 2, 5, 6, 9, 2, 8, 9, 9, 3, 2, 7, 1, 9, 7, 3, 6, 6, 0, 1, 8, 0, 0, 6, 7, 7, 8, 2, 1, 0, 8, 9, 2, 2, 0, 9, 7, 3, 9, 5, 6, 4, 0, 5, 8, 6, 4, 5, 2, 7, 7, 9, 7, 0, 8, 0, 1, 4, 2, 9, 3, 8, 3, 2, 2, 7, 2, 1, 8, 1, 0, 5, 8, 7, 1, 9, 4, 2, 8, 1, 9, 7, 4, 0, 2, 7, 8, 0, 2, 8, 8, 6, 5, 2, 1, 3, 0, 3, 2, 8, 1, 5, 1, 7, 9, 0, 8, 7, 7, 2, 8, 9, 7, 7, 4, 2, 8, 7, 3, 2, 7, 3, 7, 8, 8, 2, 3, 2, 4, 6, 8, 1, 2]\n"
     ]
    }
   ],
   "source": [
    "y_pred=model.predict(X_test)\n",
    "y_pred = [np.argmax(i) for i in y_pred]\n",
    "print(y_pred)\n"
   ]
  },
  {
   "cell_type": "code",
   "execution_count": 32,
   "metadata": {},
   "outputs": [
    {
     "name": "stdout",
     "output_type": "stream",
     "text": [
      "tf.Tensor(\n",
      "[[36  0  0  0  0  0  0  0  0  0]\n",
      " [ 0 46  1  0  0  0  0  0  0  0]\n",
      " [ 0  0 46  0  0  0  0  0  0  0]\n",
      " [ 0  0  0 36  0  0  0  0  0  0]\n",
      " [ 0  0  0  0 34  0  0  0  0  0]\n",
      " [ 0  0  0  0  0 34  0  0  0  0]\n",
      " [ 0  0  0  0  0  0 33  0  0  0]\n",
      " [ 0  0  0  0  0  0  0 44  0  0]\n",
      " [ 0  0  0  1  0  0  0  0 47  0]\n",
      " [ 0  0  0  0  0  0  0  0  0 42]], shape=(10, 10), dtype=int32)\n"
     ]
    }
   ],
   "source": [
    "cm = confusion_matrix(y_test, y_pred)\n",
    "print(cm)"
   ]
  },
  {
   "cell_type": "code",
   "execution_count": 34,
   "metadata": {},
   "outputs": [
    {
     "data": {
      "image/png": "[encoded data removed]",
      "text/plain": [
       "<Figure size 1500x700 with 2 Axes>"
      ]
     },
     "metadata": {},
     "output_type": "display_data"
    }
   ],
   "source": [
    "plt.figure(figsize=(15,7))\n",
    "sns.heatmap(cm, annot=True)\n",
    "plt.show()"
   ]
  },
  {
   "cell_type": "code",
   "execution_count": 50,
   "metadata": {},
   "outputs": [
    {
     "data": {
      "image/png": "[encoded data removed]",
      "text/plain": [
       "<Figure size 640x480 with 1 Axes>"
      ]
     },
     "metadata": {},
     "output_type": "display_data"
    },
    {
     "data": {
      "image/png": "[encoded data removed]",
      "text/plain": [
       "<Figure size 640x480 with 1 Axes>"
      ]
     },
     "metadata": {},
     "output_type": "display_data"
    }
   ],
   "source": [
    "plt.hist(y_test,color=\"green\",label=[\"True values\"],bins=19)\n",
    "plt.legend()\n",
    "plt.show()\n",
    "plt.hist(y_pred,color=\"blue\",label=[\"Predicted values\"],bins=19)\n",
    "plt.legend()\n",
    "plt.show()"
   ]
  },
  {
   "cell_type": "code",
   "execution_count": 35,
   "metadata": {},
   "outputs": [
    {
     "name": "stdout",
     "output_type": "stream",
     "text": [
      "              precision    recall  f1-score   support\n",
      "\n",
      "           0       1.00      1.00      1.00        36\n",
      "           1       1.00      0.98      0.99        47\n",
      "           2       0.98      1.00      0.99        46\n",
      "           3       0.97      1.00      0.99        36\n",
      "           4       1.00      1.00      1.00        34\n",
      "           5       1.00      1.00      1.00        34\n",
      "           6       1.00      1.00      1.00        33\n",
      "           7       1.00      1.00      1.00        44\n",
      "           8       1.00      0.98      0.99        48\n",
      "           9       1.00      1.00      1.00        42\n",
      "\n",
      "    accuracy                           0.99       400\n",
      "   macro avg       1.00      1.00      1.00       400\n",
      "weighted avg       1.00      0.99      1.00       400\n",
      "\n"
     ]
    }
   ],
   "source": [
    "from sklearn.metrics import classification_report\n",
    "\n",
    "print(classification_report(y_test,y_pred))"
   ]
  }
 ],
 "metadata": {
  "kernelspec": {
   "display_name": "Python 3",
   "language": "python",
   "name": "python3"
  },
  "language_info": {
   "codemirror_mode": {
    "name": "ipython",
    "version": 3
   },
   "file_extension": ".py",
   "mimetype": "text/x-python",
   "name": "python",
   "nbconvert_exporter": "python",
   "pygments_lexer": "ipython3",
   "version": "3.11.4"
  }
 },
 "nbformat": 4,
 "nbformat_minor": 2
}
